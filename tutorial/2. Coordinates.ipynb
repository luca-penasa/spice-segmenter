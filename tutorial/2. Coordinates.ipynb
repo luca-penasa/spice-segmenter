{
 "cells": [
  {
   "cell_type": "code",
   "execution_count": 1,
   "metadata": {},
   "outputs": [],
   "source": [
    "from matplotlib import pyplot as plt\n",
    "\n",
    "from planetary_coverage import  SpiceRef\n",
    "from spice_segmenter.spice_window import SpiceWindow\n",
    "import numpy as np"
   ]
  },
  {
   "cell_type": "code",
   "execution_count": 2,
   "metadata": {},
   "outputs": [
    {
     "name": "stderr",
     "output_type": "stream",
     "text": [
      "\u001b[32m2024-11-08 13:47:10.279\u001b[0m | \u001b[33m\u001b[1mWARNING \u001b[0m | \u001b[36mquick_spice_manager.spice_manager\u001b[0m:\u001b[36m__attrs_post_init__\u001b[0m:\u001b[36m61\u001b[0m - \u001b[33m\u001b[1mUsing as default meta-kernel plan\u001b[0m\n"
     ]
    }
   ],
   "source": [
    "from quick_setup import config, traj, start, end"
   ]
  },
  {
   "cell_type": "code",
   "execution_count": null,
   "metadata": {},
   "outputs": [],
   "source": []
  },
  {
   "cell_type": "code",
   "execution_count": 3,
   "metadata": {},
   "outputs": [
    {
     "data": {
      "text/plain": [
       "Vector from JUICE to IO in frame IAU_IO"
      ]
     },
     "execution_count": 3,
     "metadata": {},
     "output_type": "execute_result"
    }
   ],
   "source": [
    "from spice_segmenter.coordinates import Vector\n",
    "\n",
    "io_juice = Vector(\"JUICE\", \"IO\", frame=SpiceRef(\"IO\").frame, abcorr=\"LT+S\") # a vector\n",
    "io_juice"
   ]
  },
  {
   "cell_type": "code",
   "execution_count": 4,
   "metadata": {},
   "outputs": [
    {
     "data": {
      "text/plain": [
       "array([ 3.34476864e+08,  7.07730908e+08, -4.29268382e+07])"
      ]
     },
     "execution_count": 4,
     "metadata": {},
     "output_type": "execute_result"
    }
   ],
   "source": [
    "t = traj.ets[100]\n",
    "\n",
    "io_juice(t) # get the vector value"
   ]
  },
  {
   "cell_type": "code",
   "execution_count": 5,
   "metadata": {},
   "outputs": [
    {
     "data": {
      "text/plain": [
       "array(3.34476864e+08)"
      ]
     },
     "execution_count": 5,
     "metadata": {},
     "output_type": "execute_result"
    }
   ],
   "source": [
    "io_juice.x(t) # get the x component"
   ]
  },
  {
   "cell_type": "code",
   "execution_count": 6,
   "metadata": {},
   "outputs": [
    {
     "data": {
      "text/plain": [
       "<PropertyTypes.VECTOR: 3>"
      ]
     },
     "execution_count": 6,
     "metadata": {},
     "output_type": "execute_result"
    }
   ],
   "source": [
    "io_juice.type"
   ]
  },
  {
   "cell_type": "code",
   "execution_count": 7,
   "metadata": {},
   "outputs": [
    {
     "data": {
      "text/plain": [
       "array(7.07730908e+08)"
      ]
     },
     "execution_count": 7,
     "metadata": {},
     "output_type": "execute_result"
    }
   ],
   "source": [
    "io_juice.y(t) # get the y component"
   ]
  },
  {
   "cell_type": "code",
   "execution_count": 8,
   "metadata": {},
   "outputs": [
    {
     "data": {
      "text/plain": [
       "array(-42926838.20721731)"
      ]
     },
     "execution_count": 8,
     "metadata": {},
     "output_type": "execute_result"
    }
   ],
   "source": [
    "io_juice.z(t) # get the z component"
   ]
  },
  {
   "cell_type": "code",
   "execution_count": 9,
   "metadata": {},
   "outputs": [],
   "source": [
    "# get in a different coordinate type\n",
    "\n",
    "latitudinal = io_juice.as_latitudinal"
   ]
  },
  {
   "cell_type": "code",
   "execution_count": 10,
   "metadata": {},
   "outputs": [
    {
     "data": {
      "text/plain": [
       "array([ 7.83964620e+08,  1.12930426e+00, -5.47834901e-02])"
      ]
     },
     "execution_count": 10,
     "metadata": {},
     "output_type": "execute_result"
    }
   ],
   "source": [
    "latitudinal(t)\n"
   ]
  },
  {
   "cell_type": "code",
   "execution_count": 11,
   "metadata": {},
   "outputs": [
    {
     "data": {
      "text/plain": [
       "array(-0.05478349)"
      ]
     },
     "execution_count": 11,
     "metadata": {},
     "output_type": "execute_result"
    }
   ],
   "source": [
    "latitudinal.latitude(t)"
   ]
  },
  {
   "cell_type": "code",
   "execution_count": 12,
   "metadata": {},
   "outputs": [
    {
     "data": {
      "text/plain": [
       "((latitude > -0.1 degree) & (latitude < 0.1 degree))"
      ]
     },
     "execution_count": 12,
     "metadata": {},
     "output_type": "execute_result"
    }
   ],
   "source": [
    "#create a constraint -> only scalars properties can be used:\n",
    "latitudinal = io_juice.as_latitudinal\n",
    "c = (latitudinal.latitude > \"-0.1 deg\") & (latitudinal.latitude < \"0.1 deg\") # find when juice is in the equatorial plane of IO\n",
    "c"
   ]
  },
  {
   "cell_type": "code",
   "execution_count": 13,
   "metadata": {},
   "outputs": [],
   "source": [
    "\n",
    "shift = np.timedelta64(1, \"h\")\n",
    "w = SpiceWindow()\n",
    "w.add_interval(start+shift, end-shift)"
   ]
  },
  {
   "cell_type": "code",
   "execution_count": 14,
   "metadata": {},
   "outputs": [
    {
     "name": "stderr",
     "output_type": "stream",
     "text": [
      "/home/luca/data/Code/spice_segmenter.git/.venv/lib/python3.12/site-packages/tqdm/auto.py:21: TqdmWarning: IProgress not found. Please update jupyter and ipywidgets. See https://ipywidgets.readthedocs.io/en/stable/user_install.html\n",
      "  from .autonotebook import tqdm as notebook_tqdm\n",
      "Coordinate pass 1 of 2: 100%|██████████| 100.0/100 [00:06<00:00, 14.93%/s]             \n",
      "Coordinate pass 2 of 2: 100%|██████████| 100.0/100 [00:00<00:00, 437.59%/s]   \n",
      "Coordinate pass 1 of 2: 100%|██████████| 100.0/100 [00:03<00:00, 25.81%/s]              \n",
      "Coordinate pass 2 of 2: 100%|██████████| 100.0/100 [00:00<00:00, 818.87%/s] \n"
     ]
    }
   ],
   "source": [
    "result = c.solve(w)"
   ]
  },
  {
   "cell_type": "code",
   "execution_count": 15,
   "metadata": {},
   "outputs": [
    {
     "data": {
      "text/plain": [
       "[<matplotlib.lines.Line2D at 0x7ddcf8d03f80>]"
      ]
     },
     "execution_count": 15,
     "metadata": {},
     "output_type": "execute_result"
    },
    {
     "data": {
      "image/png": "[encoded data removed]",
      "text/plain": [
       "<Figure size 640x480 with 1 Axes>"
      ]
     },
     "metadata": {},
     "output_type": "display_data"
    }
   ],
   "source": [
    "\n",
    "latitude_deg = latitudinal.latitude.as_unit(\"deg\")\n",
    "\n",
    "values = latitude_deg(traj.ets)\n",
    "result.plot()\n",
    "\n",
    "plt.plot(traj.utc, values, label=\"latitude\", alpha=0.4, color=\"red\")"
   ]
  },
  {
   "cell_type": "code",
   "execution_count": 16,
   "metadata": {},
   "outputs": [
    {
     "data": {
      "text/plain": [
       "[2026-10-05T01:14:11 - 2026-10-29T04:57:07,\n",
       " 2027-05-04T19:18:14 - 2027-06-25T13:07:43,\n",
       " 2031-07-21T05:46:33 - 2031-07-21T07:04:09,\n",
       " 2031-07-26T20:17:04 - 2031-07-27T13:54:07]"
      ]
     },
     "execution_count": 16,
     "metadata": {},
     "output_type": "execute_result"
    }
   ],
   "source": [
    "result.to_datetimerange() # the intervals"
   ]
  },
  {
   "cell_type": "code",
   "execution_count": null,
   "metadata": {},
   "outputs": [],
   "source": []
  }
 ],
 "metadata": {
  "kernelspec": {
   "display_name": ".venv",
   "language": "python",
   "name": "python3"
  },
  "language_info": {
   "codemirror_mode": {
    "name": "ipython",
    "version": 3
   },
   "file_extension": ".py",
   "mimetype": "text/x-python",
   "name": "python",
   "nbconvert_exporter": "python",
   "pygments_lexer": "ipython3",
   "version": "3.12.6"
  }
 },
 "nbformat": 4,
 "nbformat_minor": 4
}
